{
 "cells": [
  {
   "cell_type": "code",
   "execution_count": null,
   "id": "98eae3b0",
   "metadata": {},
   "outputs": [],
   "source": [
    "#Import libraries\n",
    "import pandas as pd\n",
    "import requests"
   ]
  },
  {
   "cell_type": "code",
   "execution_count": 15,
   "id": "f37ae315",
   "metadata": {},
   "outputs": [
    {
     "name": "stdout",
     "output_type": "stream",
     "text": [
      "              id                                              title condition  \\\n",
      "0   MLA911148773  Alimento Cat Chow Defense Plus  Para Gato Adul...       new   \n",
      "1   MLA916696915  Alimento Whiskas 1+ Para Gato Adulto Sabor Pes...       new   \n",
      "2  MLA1138993418  Alimento Pedigree Óptima Digestión Etapa 2 Par...       new   \n",
      "3   MLA829671794  Alimento Excellent Adult Para Gato Adulto Sabo...       new   \n",
      "4  MLA1346218746  Alimento Old Prince Special Recipe Dermadefens...       new   \n",
      "\n",
      "                   thumbnail_id catalog_product_id listing_type_id  \\\n",
      "0  729789-MLA49546651664_042022        MLA15558284    gold_special   \n",
      "1  765717-MLA52413744265_112022        MLA15171602    gold_special   \n",
      "2  831071-MLA49900705686_052022        MLA15168925    gold_special   \n",
      "3  750094-MLA49052581132_022022         MLA8726955    gold_special   \n",
      "4  602130-MLU52352601213_112022        MLA19771128    gold_special   \n",
      "\n",
      "                                           permalink buying_mode site_id  \\\n",
      "0  https://www.mercadolibre.com.ar/alimento-cat-c...  buy_it_now     MLA   \n",
      "1  https://www.mercadolibre.com.ar/alimento-whisk...  buy_it_now     MLA   \n",
      "2  https://www.mercadolibre.com.ar/alimento-pedig...  buy_it_now     MLA   \n",
      "3  https://www.mercadolibre.com.ar/alimento-excel...  buy_it_now     MLA   \n",
      "4  https://www.mercadolibre.com.ar/alimento-old-p...  buy_it_now     MLA   \n",
      "\n",
      "  category_id  ...                                       installments  \\\n",
      "0     MLA1087  ...  {'quantity': 12, 'amount': 2563.25, 'rate': 11...   \n",
      "1     MLA1087  ...  {'quantity': 12, 'amount': 1466.45, 'rate': 11...   \n",
      "2     MLA1077  ...  {'quantity': 12, 'amount': 2076.97, 'rate': 11...   \n",
      "3     MLA1087  ...  {'quantity': 12, 'amount': 3635.37, 'rate': 11...   \n",
      "4     MLA1077  ...  {'quantity': 12, 'amount': 2266.31, 'rate': 11...   \n",
      "\n",
      "  winner_item_id catalog_listing  discounts  promotions  inventory_id  \\\n",
      "0           None            True       None          []          None   \n",
      "1           None            True       None          []     ZIZS07843   \n",
      "2           None            True       None          []          None   \n",
      "3           None            True       None          []          None   \n",
      "4           None            True       None          []     HOEU58886   \n",
      "\n",
      "  official_store_name  variation_filters  variations_data  \\\n",
      "0                 NaN                NaN              NaN   \n",
      "1             Whiskas                NaN              NaN   \n",
      "2                 NaN                NaN              NaN   \n",
      "3              Puppis                NaN              NaN   \n",
      "4                 NaN                NaN              NaN   \n",
      "\n",
      "   differential_pricing  \n",
      "0                   NaN  \n",
      "1                   NaN  \n",
      "2                   NaN  \n",
      "3                   NaN  \n",
      "4                   NaN  \n",
      "\n",
      "[5 rows x 39 columns]\n"
     ]
    }
   ],
   "source": [
    "def build_dataframe(category_id):\n",
    "    base_url = 'https://api.mercadolibre.com/sites/MLA/search'\n",
    "    items_per_offset = 50\n",
    "    total_items = 1000\n",
    "    offsets = range(0, total_items, items_per_offset)\n",
    "    \n",
    "    data = []\n",
    "    for offset in offsets:\n",
    "        url = f'{base_url}?category={category_id}&offset={offset}'\n",
    "        response = requests.get(url)\n",
    "        if response.status_code == 200:\n",
    "            items = response.json()['results']\n",
    "            data.extend(items)\n",
    "        else:\n",
    "            print(f'Request failed for offset {offset}.')\n",
    "            continue\n",
    "    \n",
    "    df = pd.DataFrame(data)\n",
    "    return df\n",
    "\n",
    "# Usage example\n",
    "category_id = 'MLA1071'\n",
    "df = build_dataframe(category_id)\n",
    "print(df.head())"
   ]
  }
 ],
 "metadata": {
  "kernelspec": {
   "display_name": "Python 3 (ipykernel)",
   "language": "python",
   "name": "python3"
  },
  "language_info": {
   "codemirror_mode": {
    "name": "ipython",
    "version": 3
   },
   "file_extension": ".py",
   "mimetype": "text/x-python",
   "name": "python",
   "nbconvert_exporter": "python",
   "pygments_lexer": "ipython3",
   "version": "3.10.9"
  }
 },
 "nbformat": 4,
 "nbformat_minor": 5
}
