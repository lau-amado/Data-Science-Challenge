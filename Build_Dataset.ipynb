{
 "cells": [
  {
   "cell_type": "code",
   "execution_count": 18,
   "id": "d6e97ceb",
   "metadata": {},
   "outputs": [],
   "source": [
    "#Import libraries\n",
    "import pandas as pd\n",
    "import requests"
   ]
  },
  {
   "cell_type": "code",
   "execution_count": 23,
   "id": "4efb1c40",
   "metadata": {},
   "outputs": [],
   "source": [
    "def build_dataframe(category_id):\n",
    "    base_url = 'https://api.mercadolibre.com/sites/MCO/search'\n",
    "    items_per_offset = 50\n",
    "    total_items = 1000\n",
    "    offsets = range(0, total_items, items_per_offset)\n",
    "    \n",
    "    data = []\n",
    "    for offset in offsets:\n",
    "        url = f'{base_url}?category={category_id}&offset={offset}'\n",
    "        response = requests.get(url)\n",
    "        if response.status_code == 200:\n",
    "            items = response.json()['results']\n",
    "            data.extend(items)\n",
    "        else:\n",
    "            print(f'Request failed for offset {offset}.')\n",
    "            continue\n",
    "    \n",
    "    df = pd.DataFrame(data)\n",
    "    return df"
   ]
  },
  {
   "cell_type": "code",
   "execution_count": 22,
   "id": "4a390ab0",
   "metadata": {},
   "outputs": [
    {
     "data": {
      "text/plain": [
       "[{'id': 'MCO1747', 'name': 'Accesorios para Vehículos'},\n",
       " {'id': 'MCO441917', 'name': 'Agro'},\n",
       " {'id': 'MCO1403', 'name': 'Alimentos y Bebidas'},\n",
       " {'id': 'MCO1071', 'name': 'Animales y Mascotas'},\n",
       " {'id': 'MCO1367', 'name': 'Antigüedades y Colecciones'},\n",
       " {'id': 'MCO1368', 'name': 'Arte, Papelería y Mercería'},\n",
       " {'id': 'MCO1384', 'name': 'Bebés'},\n",
       " {'id': 'MCO1246', 'name': 'Belleza y Cuidado Personal'},\n",
       " {'id': 'MCO40433', 'name': 'Boletas para Espectáculos'},\n",
       " {'id': 'MCO1039', 'name': 'Cámaras y Accesorios'},\n",
       " {'id': 'MCO1743', 'name': 'Carros, Motos y Otros'},\n",
       " {'id': 'MCO1051', 'name': 'Celulares y Teléfonos'},\n",
       " {'id': 'MCO1648', 'name': 'Computación'},\n",
       " {'id': 'MCO1144', 'name': 'Consolas y Videojuegos'},\n",
       " {'id': 'MCO172890', 'name': 'Construcción'},\n",
       " {'id': 'MCO1276', 'name': 'Deportes y Fitness'},\n",
       " {'id': 'MCO5726', 'name': 'Electrodomésticos'},\n",
       " {'id': 'MCO1000', 'name': 'Electrónica, Audio y Video'},\n",
       " {'id': 'MCO175794', 'name': 'Herramientas'},\n",
       " {'id': 'MCO1574', 'name': 'Hogar y Muebles'},\n",
       " {'id': 'MCO1499', 'name': 'Industrias y Oficinas'},\n",
       " {'id': 'MCO1459', 'name': 'Inmuebles'},\n",
       " {'id': 'MCO1182', 'name': 'Instrumentos Musicales'},\n",
       " {'id': 'MCO1132', 'name': 'Juegos y Juguetes'},\n",
       " {'id': 'MCO3025', 'name': 'Libros, Revistas y Comics'},\n",
       " {'id': 'MCO1168', 'name': 'Música, Películas y Series'},\n",
       " {'id': 'MCO118204', 'name': 'Recuerdos, Piñatería y Fiestas'},\n",
       " {'id': 'MCO3937', 'name': 'Relojes y Joyas'},\n",
       " {'id': 'MCO1430', 'name': 'Ropa y Accesorios'},\n",
       " {'id': 'MCO180800', 'name': 'Salud y Equipamiento Médico'},\n",
       " {'id': 'MCO1540', 'name': 'Servicios'},\n",
       " {'id': 'MCO1953', 'name': 'Otras categorías'}]"
      ]
     },
     "execution_count": 22,
     "metadata": {},
     "output_type": "execute_result"
    }
   ],
   "source": [
    "cats = requests.get('https://api.mercadolibre.com/sites/MCO/categories')\n",
    "cats.json()"
   ]
  },
  {
   "cell_type": "code",
   "execution_count": 24,
   "id": "b3367a3c",
   "metadata": {},
   "outputs": [
    {
     "name": "stdout",
     "output_type": "stream",
     "text": [
      "              id                                              title condition  \\\n",
      "0  MCO1433346850  Alimento En Granulos Tetra Color Para Pe - g a...       new   \n",
      "1  MCO1271161991  Alimento Chunky Para Perro Adulto Todos Los Ta...       new   \n",
      "2  MCO1140118315     Arena Para Gatos 4 Unidades -10.5 Lb/ 4.76 Kg.       new   \n",
      "3   MCO849175950  Cachorro Teckel O Salchicha Hembra Arlequin Co...       new   \n",
      "4   MCO936049344  Alimento Hill's Prescription Diet Urinary Care...       new   \n",
      "\n",
      "                   thumbnail_id catalog_product_id listing_type_id  \\\n",
      "0  740092-MLA54697178729_032023        MCO22485756    gold_special   \n",
      "1  939032-MLA49421109395_032022        MCO18209544        gold_pro   \n",
      "2  901580-MCO52389298885_112022        MCO19990091    gold_special   \n",
      "3  872759-MCO48803615032_012022               None    gold_special   \n",
      "4  741520-MLA48168751175_112021        MCO12017739    gold_special   \n",
      "\n",
      "                                           permalink buying_mode site_id  \\\n",
      "0  https://www.mercadolibre.com.co/alimento-en-gr...  buy_it_now     MCO   \n",
      "1  https://www.mercadolibre.com.co/alimento-chunk...  buy_it_now     MCO   \n",
      "2  https://www.mercadolibre.com.co/arena-para-gat...  buy_it_now     MCO   \n",
      "3  https://articulo.mercadolibre.com.co/MCO-84917...  buy_it_now     MCO   \n",
      "4  https://www.mercadolibre.com.co/alimento-hills...  buy_it_now     MCO   \n",
      "\n",
      "  category_id  ...                                       installments  \\\n",
      "0     MCO1094  ...  {'quantity': 36, 'amount': 1497.22, 'rate': 0,...   \n",
      "1     MCO1077  ...  {'quantity': 12, 'amount': 14156.92, 'rate': 0...   \n",
      "2   MCO116338  ...  {'quantity': 36, 'amount': 4719.47, 'rate': 0,...   \n",
      "3     MCO1073  ...  {'quantity': 36, 'amount': 161111.11, 'rate': ...   \n",
      "4     MCO1087  ...  {'quantity': 36, 'amount': 3611.11, 'rate': 0,...   \n",
      "\n",
      "  winner_item_id catalog_listing  discounts  promotions  inventory_id  \\\n",
      "0           None            True       None          []     CNGD17978   \n",
      "1           None            True       None          []          None   \n",
      "2           None            True       None          []          None   \n",
      "3           None             NaN       None          []          None   \n",
      "4           None            True       None          []          None   \n",
      "\n",
      "  differential_pricing  variation_filters  \\\n",
      "0                  NaN                NaN   \n",
      "1     {'id': 33602181}                NaN   \n",
      "2                  NaN                NaN   \n",
      "3                  NaN       [COAT_COLOR]   \n",
      "4                  NaN                NaN   \n",
      "\n",
      "                                     variations_data  official_store_name  \n",
      "0                                                NaN                  NaN  \n",
      "1                                                NaN                  NaN  \n",
      "2                                                NaN                  NaN  \n",
      "3  {'174088113414': {'thumbnail': 'http://http2.m...                  NaN  \n",
      "4                                                NaN                  NaN  \n",
      "\n",
      "[5 rows x 39 columns]\n"
     ]
    }
   ],
   "source": [
    "# Usage example\n",
    "category_id = 'MCO1071'\n",
    "df = build_dataframe(category_id)\n",
    "print(df.head())"
   ]
  }
 ],
 "metadata": {
  "kernelspec": {
   "display_name": "Python 3 (ipykernel)",
   "language": "python",
   "name": "python3"
  },
  "language_info": {
   "codemirror_mode": {
    "name": "ipython",
    "version": 3
   },
   "file_extension": ".py",
   "mimetype": "text/x-python",
   "name": "python",
   "nbconvert_exporter": "python",
   "pygments_lexer": "ipython3",
   "version": "3.10.9"
  }
 },
 "nbformat": 4,
 "nbformat_minor": 5
}
